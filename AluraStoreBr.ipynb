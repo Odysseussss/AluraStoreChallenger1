{
  "nbformat": 4,
  "nbformat_minor": 0,
  "metadata": {
    "colab": {
      "provenance": [],
      "toc_visible": true
    },
    "kernelspec": {
      "name": "python3",
      "display_name": "Python 3"
    },
    "language_info": {
      "name": "python"
    }
  },
  "cells": [
    {
      "cell_type": "markdown",
      "source": [
        "# Análise de performace por loja!"
      ],
      "metadata": {
        "id": "EfwHdFJrc9ki"
      }
    },
    {
      "cell_type": "markdown",
      "source": [
        "### Importação dos dados\n",
        "\n"
      ],
      "metadata": {
        "id": "RhEdWd9YUR6H"
      }
    },
    {
      "cell_type": "code",
      "execution_count": 48,
      "metadata": {
        "colab": {
          "base_uri": "https://localhost:8080/",
          "height": 365
        },
        "id": "T3EvaeQ_INIL",
        "outputId": "91b69ab6-2bcc-438e-d8d0-fb9c0141284b"
      },
      "outputs": [
        {
          "output_type": "execute_result",
          "data": {
            "text/plain": [
              "                 Produto Categoria do Produto    Preço      Frete  \\\n",
              "0     Assistente virtual          eletronicos   219.08   9.249790   \n",
              "1         Mesa de jantar               moveis   256.35  11.234305   \n",
              "2      Jogo de tabuleiro           brinquedos   279.51  21.262681   \n",
              "3            Micro-ondas     eletrodomesticos  1009.99  54.667344   \n",
              "4  Cadeira de escritório               moveis   446.99  26.964689   \n",
              "\n",
              "  Data da Compra        Vendedor Local da compra  Avaliação da compra  \\\n",
              "0     16/01/2021     Pedro Gomes              SP                    4   \n",
              "1     18/05/2022  Beatriz Moraes              RJ                    1   \n",
              "2     15/03/2021      João Souza              DF                    1   \n",
              "3     03/05/2022      João Souza              RS                    4   \n",
              "4     07/11/2020   Larissa Alves              MG                    5   \n",
              "\n",
              "  Tipo de pagamento  Quantidade de parcelas    lat    lon  \n",
              "0    cartao_credito                       8 -22.19 -48.79  \n",
              "1    cartao_credito                       4 -22.25 -42.66  \n",
              "2    cartao_credito                       1 -15.83 -47.86  \n",
              "3            boleto                       1 -30.17 -53.50  \n",
              "4            boleto                       1 -18.10 -44.38  "
            ],
            "text/html": [
              "\n",
              "  <div id=\"df-0e7ec676-e717-4080-bcbf-94b860fabb9d\" class=\"colab-df-container\">\n",
              "    <div>\n",
              "<style scoped>\n",
              "    .dataframe tbody tr th:only-of-type {\n",
              "        vertical-align: middle;\n",
              "    }\n",
              "\n",
              "    .dataframe tbody tr th {\n",
              "        vertical-align: top;\n",
              "    }\n",
              "\n",
              "    .dataframe thead th {\n",
              "        text-align: right;\n",
              "    }\n",
              "</style>\n",
              "<table border=\"1\" class=\"dataframe\">\n",
              "  <thead>\n",
              "    <tr style=\"text-align: right;\">\n",
              "      <th></th>\n",
              "      <th>Produto</th>\n",
              "      <th>Categoria do Produto</th>\n",
              "      <th>Preço</th>\n",
              "      <th>Frete</th>\n",
              "      <th>Data da Compra</th>\n",
              "      <th>Vendedor</th>\n",
              "      <th>Local da compra</th>\n",
              "      <th>Avaliação da compra</th>\n",
              "      <th>Tipo de pagamento</th>\n",
              "      <th>Quantidade de parcelas</th>\n",
              "      <th>lat</th>\n",
              "      <th>lon</th>\n",
              "    </tr>\n",
              "  </thead>\n",
              "  <tbody>\n",
              "    <tr>\n",
              "      <th>0</th>\n",
              "      <td>Assistente virtual</td>\n",
              "      <td>eletronicos</td>\n",
              "      <td>219.08</td>\n",
              "      <td>9.249790</td>\n",
              "      <td>16/01/2021</td>\n",
              "      <td>Pedro Gomes</td>\n",
              "      <td>SP</td>\n",
              "      <td>4</td>\n",
              "      <td>cartao_credito</td>\n",
              "      <td>8</td>\n",
              "      <td>-22.19</td>\n",
              "      <td>-48.79</td>\n",
              "    </tr>\n",
              "    <tr>\n",
              "      <th>1</th>\n",
              "      <td>Mesa de jantar</td>\n",
              "      <td>moveis</td>\n",
              "      <td>256.35</td>\n",
              "      <td>11.234305</td>\n",
              "      <td>18/05/2022</td>\n",
              "      <td>Beatriz Moraes</td>\n",
              "      <td>RJ</td>\n",
              "      <td>1</td>\n",
              "      <td>cartao_credito</td>\n",
              "      <td>4</td>\n",
              "      <td>-22.25</td>\n",
              "      <td>-42.66</td>\n",
              "    </tr>\n",
              "    <tr>\n",
              "      <th>2</th>\n",
              "      <td>Jogo de tabuleiro</td>\n",
              "      <td>brinquedos</td>\n",
              "      <td>279.51</td>\n",
              "      <td>21.262681</td>\n",
              "      <td>15/03/2021</td>\n",
              "      <td>João Souza</td>\n",
              "      <td>DF</td>\n",
              "      <td>1</td>\n",
              "      <td>cartao_credito</td>\n",
              "      <td>1</td>\n",
              "      <td>-15.83</td>\n",
              "      <td>-47.86</td>\n",
              "    </tr>\n",
              "    <tr>\n",
              "      <th>3</th>\n",
              "      <td>Micro-ondas</td>\n",
              "      <td>eletrodomesticos</td>\n",
              "      <td>1009.99</td>\n",
              "      <td>54.667344</td>\n",
              "      <td>03/05/2022</td>\n",
              "      <td>João Souza</td>\n",
              "      <td>RS</td>\n",
              "      <td>4</td>\n",
              "      <td>boleto</td>\n",
              "      <td>1</td>\n",
              "      <td>-30.17</td>\n",
              "      <td>-53.50</td>\n",
              "    </tr>\n",
              "    <tr>\n",
              "      <th>4</th>\n",
              "      <td>Cadeira de escritório</td>\n",
              "      <td>moveis</td>\n",
              "      <td>446.99</td>\n",
              "      <td>26.964689</td>\n",
              "      <td>07/11/2020</td>\n",
              "      <td>Larissa Alves</td>\n",
              "      <td>MG</td>\n",
              "      <td>5</td>\n",
              "      <td>boleto</td>\n",
              "      <td>1</td>\n",
              "      <td>-18.10</td>\n",
              "      <td>-44.38</td>\n",
              "    </tr>\n",
              "  </tbody>\n",
              "</table>\n",
              "</div>\n",
              "    <div class=\"colab-df-buttons\">\n",
              "\n",
              "  <div class=\"colab-df-container\">\n",
              "    <button class=\"colab-df-convert\" onclick=\"convertToInteractive('df-0e7ec676-e717-4080-bcbf-94b860fabb9d')\"\n",
              "            title=\"Convert this dataframe to an interactive table.\"\n",
              "            style=\"display:none;\">\n",
              "\n",
              "  <svg xmlns=\"http://www.w3.org/2000/svg\" height=\"24px\" viewBox=\"0 -960 960 960\">\n",
              "    <path d=\"M120-120v-720h720v720H120Zm60-500h600v-160H180v160Zm220 220h160v-160H400v160Zm0 220h160v-160H400v160ZM180-400h160v-160H180v160Zm440 0h160v-160H620v160ZM180-180h160v-160H180v160Zm440 0h160v-160H620v160Z\"/>\n",
              "  </svg>\n",
              "    </button>\n",
              "\n",
              "  <style>\n",
              "    .colab-df-container {\n",
              "      display:flex;\n",
              "      gap: 12px;\n",
              "    }\n",
              "\n",
              "    .colab-df-convert {\n",
              "      background-color: #E8F0FE;\n",
              "      border: none;\n",
              "      border-radius: 50%;\n",
              "      cursor: pointer;\n",
              "      display: none;\n",
              "      fill: #1967D2;\n",
              "      height: 32px;\n",
              "      padding: 0 0 0 0;\n",
              "      width: 32px;\n",
              "    }\n",
              "\n",
              "    .colab-df-convert:hover {\n",
              "      background-color: #E2EBFA;\n",
              "      box-shadow: 0px 1px 2px rgba(60, 64, 67, 0.3), 0px 1px 3px 1px rgba(60, 64, 67, 0.15);\n",
              "      fill: #174EA6;\n",
              "    }\n",
              "\n",
              "    .colab-df-buttons div {\n",
              "      margin-bottom: 4px;\n",
              "    }\n",
              "\n",
              "    [theme=dark] .colab-df-convert {\n",
              "      background-color: #3B4455;\n",
              "      fill: #D2E3FC;\n",
              "    }\n",
              "\n",
              "    [theme=dark] .colab-df-convert:hover {\n",
              "      background-color: #434B5C;\n",
              "      box-shadow: 0px 1px 3px 1px rgba(0, 0, 0, 0.15);\n",
              "      filter: drop-shadow(0px 1px 2px rgba(0, 0, 0, 0.3));\n",
              "      fill: #FFFFFF;\n",
              "    }\n",
              "  </style>\n",
              "\n",
              "    <script>\n",
              "      const buttonEl =\n",
              "        document.querySelector('#df-0e7ec676-e717-4080-bcbf-94b860fabb9d button.colab-df-convert');\n",
              "      buttonEl.style.display =\n",
              "        google.colab.kernel.accessAllowed ? 'block' : 'none';\n",
              "\n",
              "      async function convertToInteractive(key) {\n",
              "        const element = document.querySelector('#df-0e7ec676-e717-4080-bcbf-94b860fabb9d');\n",
              "        const dataTable =\n",
              "          await google.colab.kernel.invokeFunction('convertToInteractive',\n",
              "                                                    [key], {});\n",
              "        if (!dataTable) return;\n",
              "\n",
              "        const docLinkHtml = 'Like what you see? Visit the ' +\n",
              "          '<a target=\"_blank\" href=https://colab.research.google.com/notebooks/data_table.ipynb>data table notebook</a>'\n",
              "          + ' to learn more about interactive tables.';\n",
              "        element.innerHTML = '';\n",
              "        dataTable['output_type'] = 'display_data';\n",
              "        await google.colab.output.renderOutput(dataTable, element);\n",
              "        const docLink = document.createElement('div');\n",
              "        docLink.innerHTML = docLinkHtml;\n",
              "        element.appendChild(docLink);\n",
              "      }\n",
              "    </script>\n",
              "  </div>\n",
              "\n",
              "\n",
              "<div id=\"df-31c0de39-aea1-4b85-a3be-10e957ec5575\">\n",
              "  <button class=\"colab-df-quickchart\" onclick=\"quickchart('df-31c0de39-aea1-4b85-a3be-10e957ec5575')\"\n",
              "            title=\"Suggest charts\"\n",
              "            style=\"display:none;\">\n",
              "\n",
              "<svg xmlns=\"http://www.w3.org/2000/svg\" height=\"24px\"viewBox=\"0 0 24 24\"\n",
              "     width=\"24px\">\n",
              "    <g>\n",
              "        <path d=\"M19 3H5c-1.1 0-2 .9-2 2v14c0 1.1.9 2 2 2h14c1.1 0 2-.9 2-2V5c0-1.1-.9-2-2-2zM9 17H7v-7h2v7zm4 0h-2V7h2v10zm4 0h-2v-4h2v4z\"/>\n",
              "    </g>\n",
              "</svg>\n",
              "  </button>\n",
              "\n",
              "<style>\n",
              "  .colab-df-quickchart {\n",
              "      --bg-color: #E8F0FE;\n",
              "      --fill-color: #1967D2;\n",
              "      --hover-bg-color: #E2EBFA;\n",
              "      --hover-fill-color: #174EA6;\n",
              "      --disabled-fill-color: #AAA;\n",
              "      --disabled-bg-color: #DDD;\n",
              "  }\n",
              "\n",
              "  [theme=dark] .colab-df-quickchart {\n",
              "      --bg-color: #3B4455;\n",
              "      --fill-color: #D2E3FC;\n",
              "      --hover-bg-color: #434B5C;\n",
              "      --hover-fill-color: #FFFFFF;\n",
              "      --disabled-bg-color: #3B4455;\n",
              "      --disabled-fill-color: #666;\n",
              "  }\n",
              "\n",
              "  .colab-df-quickchart {\n",
              "    background-color: var(--bg-color);\n",
              "    border: none;\n",
              "    border-radius: 50%;\n",
              "    cursor: pointer;\n",
              "    display: none;\n",
              "    fill: var(--fill-color);\n",
              "    height: 32px;\n",
              "    padding: 0;\n",
              "    width: 32px;\n",
              "  }\n",
              "\n",
              "  .colab-df-quickchart:hover {\n",
              "    background-color: var(--hover-bg-color);\n",
              "    box-shadow: 0 1px 2px rgba(60, 64, 67, 0.3), 0 1px 3px 1px rgba(60, 64, 67, 0.15);\n",
              "    fill: var(--button-hover-fill-color);\n",
              "  }\n",
              "\n",
              "  .colab-df-quickchart-complete:disabled,\n",
              "  .colab-df-quickchart-complete:disabled:hover {\n",
              "    background-color: var(--disabled-bg-color);\n",
              "    fill: var(--disabled-fill-color);\n",
              "    box-shadow: none;\n",
              "  }\n",
              "\n",
              "  .colab-df-spinner {\n",
              "    border: 2px solid var(--fill-color);\n",
              "    border-color: transparent;\n",
              "    border-bottom-color: var(--fill-color);\n",
              "    animation:\n",
              "      spin 1s steps(1) infinite;\n",
              "  }\n",
              "\n",
              "  @keyframes spin {\n",
              "    0% {\n",
              "      border-color: transparent;\n",
              "      border-bottom-color: var(--fill-color);\n",
              "      border-left-color: var(--fill-color);\n",
              "    }\n",
              "    20% {\n",
              "      border-color: transparent;\n",
              "      border-left-color: var(--fill-color);\n",
              "      border-top-color: var(--fill-color);\n",
              "    }\n",
              "    30% {\n",
              "      border-color: transparent;\n",
              "      border-left-color: var(--fill-color);\n",
              "      border-top-color: var(--fill-color);\n",
              "      border-right-color: var(--fill-color);\n",
              "    }\n",
              "    40% {\n",
              "      border-color: transparent;\n",
              "      border-right-color: var(--fill-color);\n",
              "      border-top-color: var(--fill-color);\n",
              "    }\n",
              "    60% {\n",
              "      border-color: transparent;\n",
              "      border-right-color: var(--fill-color);\n",
              "    }\n",
              "    80% {\n",
              "      border-color: transparent;\n",
              "      border-right-color: var(--fill-color);\n",
              "      border-bottom-color: var(--fill-color);\n",
              "    }\n",
              "    90% {\n",
              "      border-color: transparent;\n",
              "      border-bottom-color: var(--fill-color);\n",
              "    }\n",
              "  }\n",
              "</style>\n",
              "\n",
              "  <script>\n",
              "    async function quickchart(key) {\n",
              "      const quickchartButtonEl =\n",
              "        document.querySelector('#' + key + ' button');\n",
              "      quickchartButtonEl.disabled = true;  // To prevent multiple clicks.\n",
              "      quickchartButtonEl.classList.add('colab-df-spinner');\n",
              "      try {\n",
              "        const charts = await google.colab.kernel.invokeFunction(\n",
              "            'suggestCharts', [key], {});\n",
              "      } catch (error) {\n",
              "        console.error('Error during call to suggestCharts:', error);\n",
              "      }\n",
              "      quickchartButtonEl.classList.remove('colab-df-spinner');\n",
              "      quickchartButtonEl.classList.add('colab-df-quickchart-complete');\n",
              "    }\n",
              "    (() => {\n",
              "      let quickchartButtonEl =\n",
              "        document.querySelector('#df-31c0de39-aea1-4b85-a3be-10e957ec5575 button');\n",
              "      quickchartButtonEl.style.display =\n",
              "        google.colab.kernel.accessAllowed ? 'block' : 'none';\n",
              "    })();\n",
              "  </script>\n",
              "</div>\n",
              "\n",
              "    </div>\n",
              "  </div>\n"
            ],
            "application/vnd.google.colaboratory.intrinsic+json": {
              "type": "dataframe",
              "variable_name": "loja",
              "summary": "{\n  \"name\": \"loja\",\n  \"rows\": 2359,\n  \"fields\": [\n    {\n      \"column\": \"Produto\",\n      \"properties\": {\n        \"dtype\": \"category\",\n        \"num_unique_values\": 51,\n        \"samples\": [\n          \"Viol\\u00e3o\",\n          \"Bola de basquete\",\n          \"Smartwatch\"\n        ],\n        \"semantic_type\": \"\",\n        \"description\": \"\"\n      }\n    },\n    {\n      \"column\": \"Categoria do Produto\",\n      \"properties\": {\n        \"dtype\": \"category\",\n        \"num_unique_values\": 8,\n        \"samples\": [\n          \"moveis\",\n          \"esporte e lazer\",\n          \"eletronicos\"\n        ],\n        \"semantic_type\": \"\",\n        \"description\": \"\"\n      }\n    },\n    {\n      \"column\": \"Pre\\u00e7o\",\n      \"properties\": {\n        \"dtype\": \"number\",\n        \"std\": 819.5827782539145,\n        \"min\": 10.07,\n        \"max\": 3969.38,\n        \"num_unique_values\": 2315,\n        \"samples\": [\n          446.11,\n          107.31,\n          65.86\n        ],\n        \"semantic_type\": \"\",\n        \"description\": \"\"\n      }\n    },\n    {\n      \"column\": \"Frete\",\n      \"properties\": {\n        \"dtype\": \"number\",\n        \"std\": 43.814183327408166,\n        \"min\": 0.0,\n        \"max\": 214.3770604781,\n        \"num_unique_values\": 2149,\n        \"samples\": [\n          83.815279607,\n          16.069664669,\n          14.0344876928\n        ],\n        \"semantic_type\": \"\",\n        \"description\": \"\"\n      }\n    },\n    {\n      \"column\": \"Data da Compra\",\n      \"properties\": {\n        \"dtype\": \"object\",\n        \"num_unique_values\": 1018,\n        \"samples\": [\n          \"15/09/2022\",\n          \"03/06/2020\",\n          \"06/11/2021\"\n        ],\n        \"semantic_type\": \"\",\n        \"description\": \"\"\n      }\n    },\n    {\n      \"column\": \"Vendedor\",\n      \"properties\": {\n        \"dtype\": \"category\",\n        \"num_unique_values\": 14,\n        \"samples\": [\n          \"Juliana Costa\",\n          \"Mariana Ferreira\",\n          \"Pedro Gomes\"\n        ],\n        \"semantic_type\": \"\",\n        \"description\": \"\"\n      }\n    },\n    {\n      \"column\": \"Local da compra\",\n      \"properties\": {\n        \"dtype\": \"category\",\n        \"num_unique_values\": 26,\n        \"samples\": [\n          \"TO\",\n          \"RN\",\n          \"SP\"\n        ],\n        \"semantic_type\": \"\",\n        \"description\": \"\"\n      }\n    },\n    {\n      \"column\": \"Avalia\\u00e7\\u00e3o da compra\",\n      \"properties\": {\n        \"dtype\": \"number\",\n        \"std\": 1,\n        \"min\": 1,\n        \"max\": 5,\n        \"num_unique_values\": 5,\n        \"samples\": [\n          1,\n          2,\n          5\n        ],\n        \"semantic_type\": \"\",\n        \"description\": \"\"\n      }\n    },\n    {\n      \"column\": \"Tipo de pagamento\",\n      \"properties\": {\n        \"dtype\": \"category\",\n        \"num_unique_values\": 4,\n        \"samples\": [\n          \"boleto\",\n          \"cartao_debito\",\n          \"cartao_credito\"\n        ],\n        \"semantic_type\": \"\",\n        \"description\": \"\"\n      }\n    },\n    {\n      \"column\": \"Quantidade de parcelas\",\n      \"properties\": {\n        \"dtype\": \"number\",\n        \"std\": 2,\n        \"min\": 1,\n        \"max\": 24,\n        \"num_unique_values\": 15,\n        \"samples\": [\n          7,\n          14,\n          8\n        ],\n        \"semantic_type\": \"\",\n        \"description\": \"\"\n      }\n    },\n    {\n      \"column\": \"lat\",\n      \"properties\": {\n        \"dtype\": \"number\",\n        \"std\": 5.372399916530833,\n        \"min\": -30.17,\n        \"max\": 1.41,\n        \"num_unique_values\": 26,\n        \"samples\": [\n          -9.46,\n          -5.81,\n          -22.19\n        ],\n        \"semantic_type\": \"\",\n        \"description\": \"\"\n      }\n    },\n    {\n      \"column\": \"lon\",\n      \"properties\": {\n        \"dtype\": \"number\",\n        \"std\": 4.183180020544179,\n        \"min\": -70.55,\n        \"max\": -36.59,\n        \"num_unique_values\": 26,\n        \"samples\": [\n          -48.26,\n          -36.59,\n          -48.79\n        ],\n        \"semantic_type\": \"\",\n        \"description\": \"\"\n      }\n    }\n  ]\n}"
            }
          },
          "metadata": {},
          "execution_count": 48
        }
      ],
      "source": [
        "import pandas as pd\n",
        "\n",
        "url = \"https://raw.githubusercontent.com/alura-es-cursos/challenge1-data-science/refs/heads/main/base-de-dados-challenge-1/loja_1.csv\"\n",
        "url2 = \"https://raw.githubusercontent.com/alura-es-cursos/challenge1-data-science/refs/heads/main/base-de-dados-challenge-1/loja_2.csv\"\n",
        "url3 = \"https://raw.githubusercontent.com/alura-es-cursos/challenge1-data-science/refs/heads/main/base-de-dados-challenge-1/loja_3.csv\"\n",
        "url4 = \"https://raw.githubusercontent.com/alura-es-cursos/challenge1-data-science/refs/heads/main/base-de-dados-challenge-1/loja_4.csv\"\n",
        "\n",
        "loja = pd.read_csv(url)\n",
        "loja2 = pd.read_csv(url2)\n",
        "loja3 = pd.read_csv(url3)\n",
        "loja4 = pd.read_csv(url4)\n",
        "\n",
        "loja.head()"
      ]
    },
    {
      "cell_type": "markdown",
      "source": [
        "#1. Análise do faturamento\n"
      ],
      "metadata": {
        "id": "X62IW3KFUIYm"
      }
    },
    {
      "cell_type": "code",
      "source": [
        "# Faturamento da loja 1\n",
        "print(f\"Faturamento da loja 1: R$ {loja['Preço'].sum():_.2f}\".replace('.', ',').replace('_', '.'))\n",
        "\n",
        "# Faturamento da loja 2\n",
        "print(f\"Faturamento da loja 2: R$ {loja2['Preço'].sum():_.2f}\".replace('.', ',').replace('_', '.'))\n",
        "\n",
        "# Faturamento da loja 3\n",
        "print(f\"Faturamento da loja 3: R$ {loja3['Preço'].sum():_.2f}\".replace('.', ',').replace('_', '.'))\n",
        "\n",
        "# Faturamento da loja 4\n",
        "print(f\"Faturamento da loja 4: R$ {loja4['Preço'].sum():_.2f}\".replace('.', ',').replace('_', '.'))"
      ],
      "metadata": {
        "colab": {
          "base_uri": "https://localhost:8080/"
        },
        "id": "tRAOBjwjLcUV",
        "outputId": "3817a44f-cd8c-44a7-c0ed-51f4830ab290"
      },
      "execution_count": 42,
      "outputs": [
        {
          "output_type": "stream",
          "name": "stdout",
          "text": [
            "Faturamento da loja 1: R$ 1.534.509,12\n",
            "Faturamento da loja 2: R$ 1.488.459,06\n",
            "Faturamento da loja 3: R$ 1.464.025,03\n",
            "Faturamento da loja 4: R$ 1.384.497,58\n"
          ]
        }
      ]
    },
    {
      "cell_type": "markdown",
      "source": [
        "# 2. Vendas por Categoria\n"
      ],
      "metadata": {
        "id": "2V_vcAPzWZmR"
      }
    },
    {
      "cell_type": "code",
      "source": [
        "lojas = [loja, loja2, loja3, loja4]  # Lista de DataFrames das lojas\n",
        "\n",
        "for i, loja_atual in enumerate(lojas, 1):  # Iterar pelas lojas com índice (i)\n",
        "    print(f\"Loja {i}:\")  # Imprimir o número da loja\n",
        "    categorias_unicas = loja_atual['Categoria do Produto'].unique()  # Obter categorias únicas da loja atual\n",
        "\n",
        "    for categoria in categorias_unicas:  # Iterar pelas categorias da loja atual\n",
        "        quantidade_vendas = loja_atual['Categoria do Produto'].value_counts()[categoria]  # Contar vendas da categoria\n",
        "        print(f\"  Categoria: {categoria}, Quantidade de vendas: {quantidade_vendas}\")  # Imprimir resultado\n",
        "\n",
        "    print(f\"Número de vendas: {loja_atual.shape[0]}\")  # Adicionar linha com o número total de vendas\n",
        "    print(\"-\" * 20)  # Separador entre as lojas"
      ],
      "metadata": {
        "id": "A34YupIuYhfF",
        "colab": {
          "base_uri": "https://localhost:8080/"
        },
        "outputId": "f2c94c2e-8ce3-4c74-e596-682cacf2111c"
      },
      "execution_count": 43,
      "outputs": [
        {
          "output_type": "stream",
          "name": "stdout",
          "text": [
            "Loja 1:\n",
            "  Categoria: eletronicos, Quantidade de vendas: 448\n",
            "  Categoria: moveis, Quantidade de vendas: 465\n",
            "  Categoria: brinquedos, Quantidade de vendas: 324\n",
            "  Categoria: eletrodomesticos, Quantidade de vendas: 312\n",
            "  Categoria: utilidades domesticas, Quantidade de vendas: 171\n",
            "  Categoria: esporte e lazer, Quantidade de vendas: 284\n",
            "  Categoria: livros, Quantidade de vendas: 173\n",
            "  Categoria: instrumentos musicais, Quantidade de vendas: 182\n",
            "Número de vendas: 2359\n",
            "--------------------\n",
            "Loja 2:\n",
            "  Categoria: moveis, Quantidade de vendas: 442\n",
            "  Categoria: instrumentos musicais, Quantidade de vendas: 224\n",
            "  Categoria: esporte e lazer, Quantidade de vendas: 275\n",
            "  Categoria: eletronicos, Quantidade de vendas: 422\n",
            "  Categoria: utilidades domesticas, Quantidade de vendas: 181\n",
            "  Categoria: brinquedos, Quantidade de vendas: 313\n",
            "  Categoria: eletrodomesticos, Quantidade de vendas: 305\n",
            "  Categoria: livros, Quantidade de vendas: 197\n",
            "Número de vendas: 2359\n",
            "--------------------\n",
            "Loja 3:\n",
            "  Categoria: eletrodomesticos, Quantidade de vendas: 278\n",
            "  Categoria: moveis, Quantidade de vendas: 499\n",
            "  Categoria: instrumentos musicais, Quantidade de vendas: 177\n",
            "  Categoria: esporte e lazer, Quantidade de vendas: 277\n",
            "  Categoria: eletronicos, Quantidade de vendas: 451\n",
            "  Categoria: brinquedos, Quantidade de vendas: 315\n",
            "  Categoria: utilidades domesticas, Quantidade de vendas: 177\n",
            "  Categoria: livros, Quantidade de vendas: 185\n",
            "Número de vendas: 2359\n",
            "--------------------\n",
            "Loja 4:\n",
            "  Categoria: eletrodomesticos, Quantidade de vendas: 254\n",
            "  Categoria: moveis, Quantidade de vendas: 480\n",
            "  Categoria: esporte e lazer, Quantidade de vendas: 277\n",
            "  Categoria: livros, Quantidade de vendas: 187\n",
            "  Categoria: eletronicos, Quantidade de vendas: 451\n",
            "  Categoria: instrumentos musicais, Quantidade de vendas: 170\n",
            "  Categoria: brinquedos, Quantidade de vendas: 338\n",
            "  Categoria: utilidades domesticas, Quantidade de vendas: 201\n",
            "Número de vendas: 2358\n",
            "--------------------\n"
          ]
        }
      ]
    },
    {
      "cell_type": "markdown",
      "source": [
        "# 3. Média de Avaliação das Lojas"
      ],
      "metadata": {
        "id": "Rq6tU_xSY3jk"
      }
    },
    {
      "cell_type": "code",
      "source": [
        "lojas = [loja, loja2, loja3, loja4]  # Lista de DataFrames das lojas\n",
        "# Prefiro usar o For para obter o resultado em linha por linha\n",
        "for i, loja_atual in enumerate(lojas, 1):  # Iterar pelas lojas com índice (i)\n",
        "    media_avaliacoes = loja_atual['Avaliação da compra'].mean()  # Calcular a média das avaliações\n",
        "    print(f\"Loja {i}: Média das avaliações de compra: {media_avaliacoes:.2f}\")  # Imprimir a média"
      ],
      "metadata": {
        "id": "bh3jjjJwY5MU",
        "colab": {
          "base_uri": "https://localhost:8080/"
        },
        "outputId": "79df5276-094e-46f3-f7a3-7737265ac39e"
      },
      "execution_count": 44,
      "outputs": [
        {
          "output_type": "stream",
          "name": "stdout",
          "text": [
            "Loja 1: Média das avaliações de compra: 3.98\n",
            "Loja 2: Média das avaliações de compra: 4.04\n",
            "Loja 3: Média das avaliações de compra: 4.05\n",
            "Loja 4: Média das avaliações de compra: 4.00\n"
          ]
        }
      ]
    },
    {
      "cell_type": "markdown",
      "source": [
        "# 4. Produtos Mais e Menos Vendidos"
      ],
      "metadata": {
        "id": "DmNp1KPBZCm-"
      }
    },
    {
      "cell_type": "code",
      "source": [
        "lojas = [loja, loja2, loja3, loja4]  # Lista de DataFrames das lojas\n",
        "\n",
        "for i, loja_atual in enumerate(lojas, 1):  # Iterar pelas lojas com índice (i)\n",
        "    print(f\"Loja {i}:\")  # Imprimir o número da loja\n",
        "\n",
        "    # Produtos mais vendidos\n",
        "    produtos_mais_vendidos = loja_atual['Produto'].value_counts().head(3)  # Top 5 produtos mais vendidos\n",
        "    print(\"Produtos mais vendidos:\")\n",
        "    for produto, quantidade in produtos_mais_vendidos.items():\n",
        "        print(f\"  {produto}: {quantidade} vendas\")\n",
        "\n",
        "    # Produtos menos vendidos\n",
        "    produtos_menos_vendidos = loja_atual['Produto'].value_counts().tail(3)  # Top 5 produtos menos vendidos\n",
        "    print(\"\\nProdutos menos vendidos:\")\n",
        "    for produto, quantidade in produtos_menos_vendidos.items():\n",
        "        print(f\"  {produto}: {quantidade} vendas\")\n",
        "\n",
        "    print(\"-\" * 20)  # Separador entre as lojas"
      ],
      "metadata": {
        "id": "qoyjqijQZHfF",
        "colab": {
          "base_uri": "https://localhost:8080/"
        },
        "outputId": "6a109724-da6e-4364-d0bd-7b9f001da660"
      },
      "execution_count": 45,
      "outputs": [
        {
          "output_type": "stream",
          "name": "stdout",
          "text": [
            "Loja 1:\n",
            "Produtos mais vendidos:\n",
            "  Micro-ondas: 60 vendas\n",
            "  TV Led UHD 4K: 60 vendas\n",
            "  Guarda roupas: 60 vendas\n",
            "\n",
            "Produtos menos vendidos:\n",
            "  Panela de pressão: 35 vendas\n",
            "  Headset: 33 vendas\n",
            "  Celular ABXY: 33 vendas\n",
            "--------------------\n",
            "Loja 2:\n",
            "Produtos mais vendidos:\n",
            "  Iniciando em programação: 65 vendas\n",
            "  Micro-ondas: 62 vendas\n",
            "  Bateria: 61 vendas\n",
            "\n",
            "Produtos menos vendidos:\n",
            "  Mesa de jantar: 34 vendas\n",
            "  Impressora: 34 vendas\n",
            "  Jogo de tabuleiro: 32 vendas\n",
            "--------------------\n",
            "Loja 3:\n",
            "Produtos mais vendidos:\n",
            "  Kit banquetas: 57 vendas\n",
            "  Mesa de jantar: 56 vendas\n",
            "  Cama king: 56 vendas\n",
            "\n",
            "Produtos menos vendidos:\n",
            "  Mochila: 36 vendas\n",
            "  Micro-ondas: 36 vendas\n",
            "  Blocos de montar: 35 vendas\n",
            "--------------------\n",
            "Loja 4:\n",
            "Produtos mais vendidos:\n",
            "  Cama box: 62 vendas\n",
            "  Faqueiro: 59 vendas\n",
            "  Dashboards com Power BI: 56 vendas\n",
            "\n",
            "Produtos menos vendidos:\n",
            "  Violão: 37 vendas\n",
            "  Guarda roupas: 34 vendas\n",
            "  Guitarra: 33 vendas\n",
            "--------------------\n"
          ]
        }
      ]
    },
    {
      "cell_type": "markdown",
      "source": [
        "# 5. Frete Médio por Loja\n"
      ],
      "metadata": {
        "id": "Fl0cGi3bZKqU"
      }
    },
    {
      "cell_type": "code",
      "source": [
        "# Calculando o frete médio por loja\n",
        "lojas = [loja, loja2, loja3, loja4]\n",
        "\n",
        "for i, loja_atual in enumerate(lojas, 1):\n",
        "    frete_medio = loja_atual['Frete'].mean()\n",
        "    print(f\"Loja {i}: Frete médio: R$ {frete_medio:.2f}\")\n"
      ],
      "metadata": {
        "id": "S2JeaCykZNy9",
        "colab": {
          "base_uri": "https://localhost:8080/"
        },
        "outputId": "4f0500f6-d9e1-4b11-8c66-5c66b8693048"
      },
      "execution_count": 46,
      "outputs": [
        {
          "output_type": "stream",
          "name": "stdout",
          "text": [
            "Loja 1: Frete médio: R$ 34.69\n",
            "Loja 2: Frete médio: R$ 33.62\n",
            "Loja 3: Frete médio: R$ 33.07\n",
            "Loja 4: Frete médio: R$ 31.28\n"
          ]
        }
      ]
    },
    {
      "cell_type": "markdown",
      "source": [
        "# 6. Gráficos"
      ],
      "metadata": {
        "id": "05RF9sZvDh-w"
      }
    },
    {
      "cell_type": "code",
      "source": [
        "import matplotlib.pyplot as plt\n",
        "import numpy as np\n",
        "\n",
        "# Dados para o gráfico de barras do faturamento\n",
        "faturamentos = [loja['Preço'].sum(), loja2['Preço'].sum(), loja3['Preço'].sum(), loja4['Preço'].sum()]\n",
        "lojas_nomes = ['Loja 1', 'Loja 2', 'Loja 3', 'Loja 4']\n",
        "\n",
        "# Dados para o gráfico de pizza da média de avaliação\n",
        "medias_avaliacoes = [loja['Avaliação da compra'].mean(), loja2['Avaliação da compra'].mean(),\n",
        "                     loja3['Avaliação da compra'].mean(), loja4['Avaliação da compra'].mean()]\n",
        "\n",
        "# Dados para o gráfico de barras agrupadas das vendas por categoria\n",
        "todas_categorias = set()\n",
        "for loja_atual in lojas:\n",
        "    todas_categorias.update(loja_atual['Categoria do Produto'].unique())\n",
        "todas_categorias = sorted(list(todas_categorias))\n",
        "\n",
        "vendas_por_categoria = []\n",
        "for loja_atual in lojas:\n",
        "    vendas_categoria_loja = []\n",
        "    for categoria in todas_categorias:\n",
        "        vendas_categoria_loja.append(len(loja_atual[loja_atual['Categoria do Produto'] == categoria]))\n",
        "    vendas_por_categoria.append(vendas_categoria_loja)\n",
        "\n",
        "x = np.arange(len(todas_categorias))\n",
        "width = 0.2\n",
        "\n",
        "# Criar a figura e os subplots\n",
        "fig, (ax1, ax2, ax3) = plt.subplots(1, 3, figsize=(15, 5))  # 1 linha, 3 colunas\n",
        "\n",
        "# Gráfico de barras do faturamento\n",
        "ax1.bar(lojas_nomes, faturamentos, color=['blue', 'green', 'red', 'orange'])\n",
        "ax1.set_title('Faturamento por Loja')\n",
        "ax1.set_xlabel('Loja')\n",
        "ax1.set_ylabel('Faturamento (R$)')\n",
        "\n",
        "# Gráfico de pizza da média de avaliação\n",
        "ax2.pie(medias_avaliacoes, labels=lojas_nomes, autopct='%1.1f%%', startangle=90)\n",
        "ax2.set_title('Média de Avaliação por Loja')\n",
        "\n",
        "# Calculando o frete médio por loja\n",
        "lojas = [loja, loja2, loja3, loja4]\n",
        "lojas_nomes = ['Loja 1', 'Loja 2', 'Loja 3', 'Loja 4']\n",
        "fretes_medios = [loja_atual['Frete'].mean() for loja_atual in lojas]\n",
        "\n",
        "# Criando o gráfico de linha\n",
        "plt.plot(lojas_nomes, fretes_medios, marker='o', linestyle='-')  # marker='o' adiciona marcadores aos pontos\n",
        "plt.title('Custo Médio de Frete por Loja')\n",
        "plt.xlabel('Loja')\n",
        "plt.ylabel('Frete Médio (R$)')\n",
        "plt.show()\n",
        "\n",
        "# Ajustar o layout e exibir os gráficos\n",
        "fig.tight_layout()\n",
        "plt.show()"
      ],
      "metadata": {
        "colab": {
          "base_uri": "https://localhost:8080/",
          "height": 353
        },
        "id": "AgJ82bgwDrxp",
        "outputId": "c8fbc515-51ad-4fcd-fba1-e64c4ea8a53e"
      },
      "execution_count": 57,
      "outputs": [
        {
          "output_type": "display_data",
          "data": {
            "text/plain": [
              "<Figure size 1500x500 with 3 Axes>"
            ],
            "image/png": "[encoded data removed]"
          },
          "metadata": {}
        }
      ]
    },
    {
      "cell_type": "markdown",
      "source": [
        "# 7 Relatório Final"
      ],
      "metadata": {
        "id": "w7c_ZD4QbZ3O"
      }
    },
    {
      "cell_type": "markdown",
      "source": [
        "Após analisar seis indicadores de desempenho das lojas, com foco em três aspectos quantitativos principais, concluí que a filial recomendada para venda é a Número 4. Apesar de apresentar o menor custo médio de frete, sua média de avaliação é a terceira mais baixa e seu faturamento é o menor entre todas as filiais."
      ],
      "metadata": {
        "id": "wdxglQu6bep4"
      }
    }
  ]
}